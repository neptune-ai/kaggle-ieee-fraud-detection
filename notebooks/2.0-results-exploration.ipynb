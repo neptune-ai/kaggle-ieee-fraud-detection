{
 "cells": [
  {
   "cell_type": "code",
   "execution_count": 2,
   "metadata": {},
   "outputs": [],
   "source": [
    "import neptune\n",
    "\n",
    "ses = neptune.sessions.Session()\n",
    "project = ses.get_project('jakub-czakon/ieee-fraud-detection')"
   ]
  },
  {
   "cell_type": "code",
   "execution_count": 4,
   "metadata": {},
   "outputs": [
    {
     "data": {
      "text/plain": [
       "Experiment(IEEEF-76)"
      ]
     },
     "execution_count": 4,
     "metadata": {},
     "output_type": "execute_result"
    }
   ],
   "source": [
    "BEST_EXP_ID = 'IEEEF-76'\n",
    "best_exp = project.get_experiments(id=BEST_EXP_ID)[0]\n",
    "best_exp"
   ]
  },
  {
   "cell_type": "code",
   "execution_count": 5,
   "metadata": {},
   "outputs": [
    {
     "data": {
      "text/plain": [
       "{'train_features_data_path': '/home/kuba/projects/kaggle/kaggle-ieee-fraud-detection/data/features/train_features_v1.csv',\n",
       " 'train_features_data_version': 'd5b59d9db058971fdbc14871e7ce43aa',\n",
       " 'test_features_data_path': '/home/kuba/projects/kaggle/kaggle-ieee-fraud-detection/data/features/test_features_v1.csv',\n",
       " 'test_features_data_version': 'e658c25e07042ea93d66fd20dda2cb5f'}"
      ]
     },
     "execution_count": 5,
     "metadata": {},
     "output_type": "execute_result"
    }
   ],
   "source": [
    "best_exp.get_properties()"
   ]
  },
  {
   "cell_type": "code",
   "execution_count": 6,
   "metadata": {},
   "outputs": [
    {
     "data": {
      "text/plain": [
       "{'num_leaves': 256.0,\n",
       " 'min_child_samples': 79.0,\n",
       " 'objective': 'binary',\n",
       " 'max_depth': 15.0,\n",
       " 'learning_rate': 0.02,\n",
       " 'boosting_type': 'gbdt',\n",
       " 'subsample_freq': 3.0,\n",
       " 'subsample': 0.9,\n",
       " 'bagging_seed': 11.0,\n",
       " 'metric': 'auc',\n",
       " 'verbosity': -1.0,\n",
       " 'reg_alpha': 0.3,\n",
       " 'reg_lambda': 0.3,\n",
       " 'colsample_bytree': 0.9,\n",
       " 'seed': 1234.0,\n",
       " 'nrows': 'None',\n",
       " 'negative_sample_fraction': 1.0,\n",
       " 'negative_sample_seed': 1234.0,\n",
       " 'num_boosting_rounds': 200.0,\n",
       " 'early_stopping_rounds': 20.0,\n",
       " 'validation_schema': 'holdout',\n",
       " 'validation_fraction': 0.26}"
      ]
     },
     "execution_count": 6,
     "metadata": {},
     "output_type": "execute_result"
    }
   ],
   "source": [
    "best_exp.get_parameters()"
   ]
  },
  {
   "cell_type": "code",
   "execution_count": null,
   "metadata": {},
   "outputs": [],
   "source": []
  }
 ],
 "metadata": {
  "kernelspec": {
   "display_name": "ieee",
   "language": "python",
   "name": "ieee"
  },
  "language_info": {
   "codemirror_mode": {
    "name": "ipython",
    "version": 3
   },
   "file_extension": ".py",
   "mimetype": "text/x-python",
   "name": "python",
   "nbconvert_exporter": "python",
   "pygments_lexer": "ipython3",
   "version": "3.6.8"
  },
  "neptune": {
   "notebookId": "be24e0fe-7789-4cec-9934-a6a346b7eef6"
  }
 },
 "nbformat": 4,
 "nbformat_minor": 2
}
